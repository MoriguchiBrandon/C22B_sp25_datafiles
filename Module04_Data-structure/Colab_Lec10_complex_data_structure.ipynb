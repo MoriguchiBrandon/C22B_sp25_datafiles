{
  "cells": [
    {
      "cell_type": "markdown",
      "metadata": {
        "id": "NAqML0Vh3JzF"
      },
      "source": [
        "## Complex Data Structures with Trees##"
      ]
    },
    {
      "cell_type": "markdown",
      "source": [
        "### Use Python dictionary to implement a stack ##"
      ],
      "metadata": {
        "id": "nMvW39MOQLNI"
      }
    },
    {
      "cell_type": "code",
      "source": [
        "### Creating an empty list called stack\n",
        "stack = []\n",
        "\n",
        "### append() function to add element in the stack\n",
        "## appends will add at the end just like how things get added in a stack\n",
        "stack.append('a')\n",
        "stack.append('b')\n",
        "stack.append('c')\n",
        "\n",
        "print('Initial stack')\n",
        "print(stack)\n",
        "\n",
        "## pop() function to remove items from the end of the stack\n",
        "## element pop from stack in LIFO order\n",
        "# print('\\nElements popped from stack:')\n",
        "print(stack.pop())\n",
        "# print(stack.pop())\n",
        "# print(stack.pop())\n",
        "\n",
        "# print('\\nStack after elements are popped:')\n",
        "# print(stack)\n",
        "\n",
        "# # uncommenting print(stack.pop()) -> will cause an IndexError as the stack is now empty\n",
        "\n",
        "### Similar implementation for queue\n",
        "queue = []\n",
        "queue.append('a')\n",
        "queue.append('b')\n",
        "queue.append('c')\n",
        "print(\"Initial queue\")\n",
        "print(queue)\n",
        "print(\"\\nElements dequeued from queue\")\n",
        "print(queue.pop(0))\n",
        "print(queue.pop(0))\n",
        "# print(queue.pop(0))\n",
        "# print(\"\\nQueue after removing elements\")\n",
        "# print(queue)"
      ],
      "metadata": {
        "id": "ou3ZdVpxQKIl",
        "colab": {
          "base_uri": "https://localhost:8080/"
        },
        "outputId": "d3aa84bc-0a69-4ae1-8e87-b160e128e99a"
      },
      "execution_count": 1,
      "outputs": [
        {
          "output_type": "stream",
          "name": "stdout",
          "text": [
            "Initial stack\n",
            "['a', 'b', 'c']\n",
            "c\n",
            "Initial queue\n",
            "['a', 'b', 'c']\n",
            "\n",
            "Elements dequeued from queue\n",
            "a\n",
            "b\n"
          ]
        }
      ]
    },
    {
      "cell_type": "markdown",
      "metadata": {
        "id": "KSvIeN0K3JzO"
      },
      "source": [
        "### Use Python dictionary to implement a **graph** ##"
      ]
    },
    {
      "cell_type": "code",
      "execution_count": 2,
      "metadata": {
        "id": "9NpmNQWM3JzO"
      },
      "outputs": [],
      "source": [
        "graph = { \"A\" : [\"B\"],\n",
        "          \"B\" : [\"A\", \"C\"],\n",
        "          \"C\" : [\"B\", \"D\", \"E\"],\n",
        "          \"D\" : [\"C\", \"E\", \"F\", \"G\"],\n",
        "          \"E\" : [\"C\", \"D\", \"F\"],\n",
        "          \"F\" : [\"D\", \"E\"],\n",
        "          \"G\" : [\"D\"]\n",
        "        }"
      ]
    },
    {
      "cell_type": "markdown",
      "metadata": {
        "id": "ipQHVbSs3JzQ"
      },
      "source": [
        "### Question:\n",
        "How many edges does the graph dictionary have?\n",
        "\n",
        "A) 3\n",
        "B) 4\n",
        "C) 7\n",
        "D) 8"
      ]
    },
    {
      "cell_type": "code",
      "source": [
        "#! pip install networkx matplotlib\n",
        "import networkx as nx\n",
        "import matplotlib.pyplot as plt\n",
        "G = nx.Graph(graph)\n",
        "pos = nx.spring_layout(G)  # positions for all nodes\n",
        "# nx.draw(G, pos, with_labels=True)\n",
        "# plt.show()\n",
        "# print(G.edges)"
      ],
      "metadata": {
        "id": "it1z3jK-RVRm"
      },
      "execution_count": 3,
      "outputs": []
    },
    {
      "cell_type": "markdown",
      "metadata": {
        "id": "nEe1y40M3JzR"
      },
      "source": [
        "## Processing Tree-like Data\n",
        "In this hands-on exercise, we study means to store and manipulate information about hierarchy relationship among primates. We consider the following taxonomy showing a selection of primate taxa, where child taxa are indented underneath their parent:\n",
        "\n",
        "* Primates\n",
        "    - Haplorrhini\n",
        "        - Simiiformes\n",
        "            - Hominoidea\n",
        "                - Pan troglodytes\n",
        "                - Pongo abelii\n",
        "        - Tarsiiformes\n",
        "            - Tarsius tarsier\n",
        "    - Strepsirrhini\n",
        "         - Lorisidae\n",
        "             - Loris tardigradus\n",
        "         - Lemuriformes\n",
        "             - Allocebus trichotis\n",
        "         - Lorisiformes\n",
        "            - Galago alleni\n",
        "            - Galago moholi\n",
        "            \n",
        "\n",
        "**The following dictionary represents the Child-to-Parent relations of this tree:**\n"
      ]
    },
    {
      "cell_type": "code",
      "execution_count": 4,
      "metadata": {
        "id": "ln1rszt03JzR"
      },
      "outputs": [],
      "source": [
        "# The dictionary tax_dict holds all the child-parent relations\n",
        "# so that each key represents a child and the corresponding value\n",
        "# represents the parent of that child\n",
        "tax_dict = {\n",
        "'Pan troglodytes' : 'Hominoidea',       'Pongo abelii' : 'Hominoidea',\n",
        "'Hominoidea' :  'Simiiformes',          'Simiiformes' : 'Haplorrhini',\n",
        "'Tarsius tarsier' : 'Tarsiiformes',     'Haplorrhini' : 'Primates',\n",
        "'Tarsiiformes' : 'Haplorrhini',         'Loris tardigradus' : 'Lorisidae',\n",
        "'Lorisidae' : 'Strepsirrhini',          'Strepsirrhini' : 'Primates',\n",
        "'Allocebus trichotis' : 'Lemuriformes', 'Lemuriformes' : 'Strepsirrhini',\n",
        "'Galago alleni' : 'Lorisiformes',       'Lorisiformes' : 'Strepsirrhini',\n",
        "'Galago moholi' : 'Lorisiformes'\n",
        "}"
      ]
    },
    {
      "cell_type": "markdown",
      "metadata": {
        "id": "1_iyRY0R3JzS"
      },
      "source": [
        "The following function is for finding exactly three parents for an organism. This function uses a dictionary in which the key is an organism whose value is the parent of that organism. Method dict.get(key)"
      ]
    },
    {
      "cell_type": "code",
      "execution_count": 6,
      "metadata": {
        "id": "pPOQmH0P3JzS"
      },
      "outputs": [],
      "source": [
        "# Function works with taxon that has exactly 3 ancestors\n",
        "def get_3_ancestors(taxon):\n",
        "\n",
        "# print(get_3_ancestors('Lemuriformes'))"
      ]
    },
    {
      "cell_type": "code",
      "execution_count": null,
      "metadata": {
        "colab": {
          "base_uri": "https://localhost:8080/"
        },
        "id": "raptOFvX3JzT",
        "outputId": "8ec590d4-b1c1-4eef-b4ee-f366fc94c199"
      },
      "outputs": [
        {
          "output_type": "stream",
          "name": "stdout",
          "text": [
            "['Simiiformes', 'Haplorrhini', 'Primates']\n"
          ]
        }
      ],
      "source": [
        "def get_all_ancestors(taxon):\n",
        "  ans = []\n",
        "\n",
        "  return ans\n",
        "\n",
        "print(get_all_ancestors('Hominoidea'))"
      ]
    },
    {
      "cell_type": "markdown",
      "metadata": {
        "id": "9xU3hO_A3JzT"
      },
      "source": [
        "**Another way to representing the tree above is to create a data structure to show the Parent-to-Child relations of this tree:**\n",
        "Here we use a dictionary where the key is the parent and the value is a list of all its children: parent -> [children]"
      ]
    },
    {
      "cell_type": "code",
      "execution_count": null,
      "metadata": {
        "id": "Lu7Ryq0w3JzT"
      },
      "outputs": [],
      "source": [
        "# The dictionary new_tax_dict holds all parent child relations\n",
        "#   so that each key represents a parent and its value is\n",
        "#   a list of all children of that parent\n",
        "\n",
        "# For example: 'Primates' is a parent that is stored as the key\n",
        "#   and 'Haplorrhini' and 'Strepsirrhini' are the corresponding\n",
        "#   children stored in a list that is the value of the key 'Primates'\n",
        "new_tax_dict = {\n",
        "    'Primates': ['Haplorrhini', 'Strepsirrhini'],\n",
        "    'Haplorrhini': ['Tarsiiformes', 'Simiiformes'],\n",
        "    'Tarsiiformes': ['Tarsius tarsier'],\n",
        "    'Simiiformes': ['Hominoidea'],\n",
        "    'Hominoidea': ['Pongo abelii', 'Pan troglodytes'],\n",
        "    'Strepsirrhini': ['Lorisidae', 'Lemuriformes', 'Lorisiformes'],\n",
        "    'Lorisidae': ['Loris tardigradus'],\n",
        "    'Lemuriformes': ['Allocebus trichotis'],\n",
        "    'Lorisiformes': ['Galago alleni','Galago moholi']\n",
        "\n",
        "}"
      ]
    },
    {
      "cell_type": "markdown",
      "metadata": {
        "id": "QT3czKxs3JzU"
      },
      "source": [
        "The following is an iterative function that returns a list of all the children and grandchildren of the taxon which is given as the argument. Run the cell below. Uncomment the print statements to see how a stack data structure works in finding all the children."
      ]
    },
    {
      "cell_type": "code",
      "execution_count": null,
      "metadata": {
        "id": "z3tk6YN03JzU",
        "colab": {
          "base_uri": "https://localhost:8080/"
        },
        "outputId": "1875cc13-f5de-4d81-da3b-07ce03af006a"
      },
      "outputs": [
        {
          "output_type": "stream",
          "name": "stdout",
          "text": [
            "['Strepsirrhini', 'Lorisiformes', 'Galago moholi', 'Galago alleni', 'Lemuriformes', 'Allocebus trichotis', 'Lorisidae', 'Loris tardigradus']\n"
          ]
        }
      ],
      "source": [
        "def get_children(taxon):\n",
        "  res = [] # we are adding current parents\n",
        "  return res\n",
        "print(get_children('Strepsirrhini'))"
      ]
    },
    {
      "cell_type": "code",
      "source": [
        "def get_children(taxon):\n",
        "\n",
        "print(get_children('Strepsirrhini'))"
      ],
      "metadata": {
        "colab": {
          "base_uri": "https://localhost:8080/"
        },
        "id": "pcxP9oYnf-dA",
        "outputId": "0185641d-883d-4dcd-b3c5-f54ecf7e790a"
      },
      "execution_count": null,
      "outputs": [
        {
          "output_type": "stream",
          "name": "stdout",
          "text": [
            "['Lorisidae', 'Lemuriformes', 'Lorisiformes', 'Loris tardigradus', 'Allocebus trichotis', 'Galago alleni', 'Galago moholi']\n"
          ]
        }
      ]
    }
  ],
  "metadata": {
    "hide_input": false,
    "kernelspec": {
      "display_name": "Python 3",
      "language": "python",
      "name": "python3"
    },
    "language_info": {
      "codemirror_mode": {
        "name": "ipython",
        "version": 3
      },
      "file_extension": ".py",
      "mimetype": "text/x-python",
      "name": "python",
      "nbconvert_exporter": "python",
      "pygments_lexer": "ipython3",
      "version": "3.8.3"
    },
    "toc": {
      "base_numbering": 1,
      "nav_menu": {},
      "number_sections": true,
      "sideBar": true,
      "skip_h1_title": false,
      "title_cell": "Table of Contents",
      "title_sidebar": "Contents",
      "toc_cell": false,
      "toc_position": {},
      "toc_section_display": true,
      "toc_window_display": false
    },
    "colab": {
      "provenance": []
    }
  },
  "nbformat": 4,
  "nbformat_minor": 0
}