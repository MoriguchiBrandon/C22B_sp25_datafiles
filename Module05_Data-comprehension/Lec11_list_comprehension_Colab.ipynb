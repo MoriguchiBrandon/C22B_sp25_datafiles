{
  "cells": [
    {
      "cell_type": "markdown",
      "source": [
        "Write an LC which creates a list with the first 10 natural numbers"
      ],
      "metadata": {
        "id": "UIN5et2qbmYi"
      }
    },
    {
      "cell_type": "code",
      "execution_count": null,
      "metadata": {
        "colab": {
          "base_uri": "https://localhost:8080/"
        },
        "id": "8crycK1HKMYt",
        "outputId": "650837f9-ea44-4b3b-8fb4-27b15e5d6be5"
      },
      "outputs": [
        {
          "output_type": "stream",
          "name": "stdout",
          "text": [
            "[0, 1, 2, 3, 4, 5, 6, 7, 8, 9]\n"
          ]
        }
      ],
      "source": [
        "x =\n",
        "print(x)"
      ]
    },
    {
      "cell_type": "markdown",
      "source": [
        "Write an LC which creates a list with the first 5 even natural numbers"
      ],
      "metadata": {
        "id": "lxY0vkEYbzO1"
      }
    },
    {
      "cell_type": "code",
      "execution_count": null,
      "metadata": {
        "id": "fzOo55hRKCWs",
        "colab": {
          "base_uri": "https://localhost:8080/"
        },
        "outputId": "e01637d1-095f-4896-c8a9-dd435681586b"
      },
      "outputs": [
        {
          "output_type": "execute_result",
          "data": {
            "text/plain": [
              "[2, 4, 6, 8, 10]"
            ]
          },
          "metadata": {},
          "execution_count": 1
        }
      ],
      "source": [
        "x =\n",
        "x"
      ]
    },
    {
      "cell_type": "markdown",
      "source": [
        "Write an LC which has the first letter of the words in listOfWords"
      ],
      "metadata": {
        "id": "OJdd7PD_b79X"
      }
    },
    {
      "cell_type": "code",
      "execution_count": null,
      "metadata": {
        "id": "WPS5zVSkKiHb"
      },
      "outputs": [],
      "source": [
        "listOfWords = [\"this\",\"is\",\"the\",\"list\",\"of\",\"words\"]\n",
        "letters =\n",
        "print (letters)"
      ]
    },
    {
      "cell_type": "markdown",
      "source": [
        "Write an LC which has the first letter of the words which are greater than 2 in listOfWords"
      ],
      "metadata": {
        "id": "EYg57cSWcEhf"
      }
    },
    {
      "cell_type": "code",
      "execution_count": null,
      "metadata": {
        "id": "AzMV4Q1cMjyE"
      },
      "outputs": [],
      "source": [
        "listOfWords = [\"this\",\"is\",\"the\",\"list\",\"of\",\"words\"]\n",
        "letters =\n",
        "print (letters)"
      ]
    },
    {
      "cell_type": "code",
      "execution_count": null,
      "metadata": {
        "colab": {
          "base_uri": "https://localhost:8080/"
        },
        "id": "e81jN8gXO__4",
        "outputId": "27f4175b-712c-4912-9a84-3eb8f2c545d9"
      },
      "outputs": [
        {
          "output_type": "execute_result",
          "data": {
            "text/plain": [
              "[0.5, 0.5, 0.6666666666666666, 0.375]"
            ]
          },
          "metadata": {},
          "execution_count": 2
        }
      ],
      "source": [
        "dnaList = ['TAGC', 'ACGTATGC', 'ATG', 'ACGGCTAG']\n",
        "ats = []\n",
        "for dna in dnaList:\n",
        "  ats.append((dna.count(\"A\")+dna.count('T'))/len(dna))\n",
        "ats"
      ]
    },
    {
      "cell_type": "markdown",
      "source": [
        "Write an LC which contains the AT content of the dnas in dnaList"
      ],
      "metadata": {
        "id": "mVrw1UgwcLyG"
      }
    },
    {
      "cell_type": "code",
      "execution_count": null,
      "metadata": {
        "colab": {
          "base_uri": "https://localhost:8080/"
        },
        "id": "hqJq5DsGxY_B",
        "outputId": "dcdc3f93-7e35-4713-d80b-38f898e15024"
      },
      "outputs": [
        {
          "output_type": "execute_result",
          "data": {
            "text/plain": [
              "[0.5, 0.5, 0.6666666666666666, 0.375]"
            ]
          },
          "metadata": {},
          "execution_count": 3
        }
      ],
      "source": [
        "dnaList = ['TAGC', 'ACGTATGC', 'ATG', 'ACGGCTAG']\n",
        "ats =\n",
        "ats"
      ]
    },
    {
      "cell_type": "code",
      "execution_count": null,
      "metadata": {
        "id": "V2agqLfVzEdS"
      },
      "outputs": [],
      "source": [
        "dnaList = ['TAGC', 'ACGTATGC', 'ATG', 'ACGGCTAG']\n",
        "ats = []\n",
        "for dna in dnaList:\n",
        "  if dna.startswith('A'):\n",
        "    ats.append((dna.count(\"A\")+dna.count('T'))/len(dna))\n",
        "ats"
      ]
    },
    {
      "cell_type": "markdown",
      "source": [
        "Write an LC which contains the AT content of the dnas which startwith(\"A\") in dnaList."
      ],
      "metadata": {
        "id": "4SWROJL7cUYE"
      }
    },
    {
      "cell_type": "code",
      "execution_count": null,
      "metadata": {
        "id": "sNE6vkQJ0qbu"
      },
      "outputs": [],
      "source": [
        "dnaList = ['TAGC', 'ACGTATGC', 'ATG', 'ACGGCTAG']\n",
        "ats =\n",
        "ats"
      ]
    },
    {
      "cell_type": "markdown",
      "source": [
        "Write an LC which contains the len of the dna for those dna which AT content an at content < 0.6\n",
        "(for the if condition use a function of that returns a boolean value for the following condition: AT content an at content < 0.6)"
      ],
      "metadata": {
        "id": "T1nXhTLAfYoY"
      }
    },
    {
      "cell_type": "code",
      "execution_count": null,
      "metadata": {
        "colab": {
          "base_uri": "https://localhost:8080/"
        },
        "id": "38Jlq_Jg2Q5m",
        "outputId": "72d22cdb-d508-4c1a-c3b1-f96cafaad8b8"
      },
      "outputs": [
        {
          "output_type": "stream",
          "name": "stdout",
          "text": [
            "0.5\n",
            "0.5\n",
            "0.6666666666666666\n",
            "0.375\n"
          ]
        },
        {
          "output_type": "execute_result",
          "data": {
            "text/plain": [
              "[4, 8, 8]"
            ]
          },
          "metadata": {},
          "execution_count": 4
        }
      ],
      "source": [
        "dna_list = ['TAGC', 'ACGTATGC', 'ATG', 'ACGGCTAG']\n",
        "\n",
        "def is_at_poor(dna):\n",
        "    at = (dna.count('A') + dna.count('T')) / len(dna)\n",
        "    print(at)\n",
        "    return at < 0.6\n",
        "\n",
        "# get the length of DNA that has less than 0.6 AT content\n",
        "at_poor_dna_lengths =\n",
        "at_poor_dna_lengths"
      ]
    },
    {
      "cell_type": "markdown",
      "metadata": {
        "id": "_RCEaiHsXdP8"
      },
      "source": [
        "Write an LC which uses the at_content as an function in the expression for the LC"
      ]
    },
    {
      "cell_type": "code",
      "execution_count": null,
      "metadata": {
        "id": "hIcXrM5AXdP9",
        "outputId": "75cbdb4b-ed67-40bc-9953-285b9bfc670e"
      },
      "outputs": [
        {
          "data": {
            "text/plain": [
              "[0.5, 0.5, 0.6666666666666666, 0.375]"
            ]
          },
          "execution_count": 8,
          "metadata": {},
          "output_type": "execute_result"
        }
      ],
      "source": [
        "dna_list = ['TAGC', 'ACGTATGC', 'ATG', 'ACGGCTAG']\n",
        "\n",
        "#this function takes in a string\n",
        "def at_content (dna):\n",
        "    at = (dna.count('A') + dna.count('T')) / len(dna)\n",
        "    return at\n",
        "\n",
        "content_at = []\n",
        "for dna in dna_list:\n",
        "    content_at.append(at_content(dna))\n",
        "content_at"
      ]
    },
    {
      "cell_type": "code",
      "execution_count": null,
      "metadata": {
        "id": "iOgyxQbAXdP8",
        "outputId": "13a168ef-2222-4db7-d31e-23e8fc25678e"
      },
      "outputs": [
        {
          "data": {
            "text/plain": [
              "[0.5, 0.5, 0.6666666666666666, 0.375]"
            ]
          },
          "execution_count": 5,
          "metadata": {},
          "output_type": "execute_result"
        }
      ],
      "source": [
        "dna_list = ['TAGC', 'ACGTATGC', 'ATG', 'ACGGCTAG']\n",
        "\n",
        "# write the func\n",
        "\n",
        "\n",
        "content_at = # LC\n",
        "content_at"
      ]
    },
    {
      "cell_type": "code",
      "execution_count": null,
      "metadata": {
        "colab": {
          "base_uri": "https://localhost:8080/"
        },
        "id": "mJFvBfsy7XdK",
        "outputId": "c6d1d052-d6f0-4798-addd-82da8726f497"
      },
      "outputs": [
        {
          "name": "stdout",
          "output_type": "stream",
          "text": [
            "1 1\n",
            "1 2\n",
            "1 3\n",
            "1 4\n",
            "2 1\n",
            "2 2\n",
            "2 3\n",
            "2 4\n",
            "3 1\n",
            "3 2\n",
            "3 3\n",
            "3 4\n",
            "4 1\n",
            "4 2\n",
            "4 3\n",
            "4 4\n"
          ]
        },
        {
          "data": {
            "text/plain": [
              "[2, 3, 4, 5, 3, 4, 5, 6, 4, 5, 6, 7, 5, 6, 7, 8]"
            ]
          },
          "execution_count": 11,
          "metadata": {},
          "output_type": "execute_result"
        }
      ],
      "source": [
        "list_a = [1, 2, 3, 4]\n",
        "new_list = []\n",
        "for num in list_a:\n",
        "  for number in list_a:\n",
        "    print (str(num) + \" \" + str(number))\n",
        "    new_list.append(num + number)\n",
        "new_list"
      ]
    },
    {
      "cell_type": "markdown",
      "source": [
        "Write an LC to implement the above nested for loop."
      ],
      "metadata": {
        "id": "s06-y-e3f8kP"
      }
    },
    {
      "cell_type": "code",
      "execution_count": null,
      "metadata": {
        "colab": {
          "base_uri": "https://localhost:8080/"
        },
        "id": "P7qONpnx90AD",
        "outputId": "405651f3-a821-4cf6-89ca-a853d98c3980"
      },
      "outputs": [
        {
          "data": {
            "text/plain": [
              "[2, 3, 4, 5, 3, 4, 5, 6, 4, 5, 6, 7, 5, 6, 7, 8]"
            ]
          },
          "execution_count": 12,
          "metadata": {},
          "output_type": "execute_result"
        }
      ],
      "source": [
        "list_a = [1, 2, 3, 4]\n",
        "new_list =\n",
        "new_list"
      ]
    },
    {
      "cell_type": "code",
      "execution_count": null,
      "metadata": {
        "colab": {
          "base_uri": "https://localhost:8080/"
        },
        "id": "pLpf66Z1-K-d",
        "outputId": "1c56793e-ac7f-4f3f-faac-3df4251e7c00"
      },
      "outputs": [
        {
          "data": {
            "text/plain": [
              "['h',\n",
              " 'i',\n",
              " 's',\n",
              " 'i',\n",
              " 's',\n",
              " 'h',\n",
              " 'e',\n",
              " 'l',\n",
              " 'i',\n",
              " 's',\n",
              " 'o',\n",
              " 'f',\n",
              " 'w',\n",
              " 'o',\n",
              " 'r',\n",
              " 'd',\n",
              " 's']"
            ]
          },
          "execution_count": 13,
          "metadata": {},
          "output_type": "execute_result"
        }
      ],
      "source": [
        "listOfWords = [\"this\",\"is\",\"the\",\"list\",\"of\",\"words\"]\n",
        "new_list = []\n",
        "for words in listOfWords:\n",
        "    for letters in words:\n",
        "        if letters != \"t\":\n",
        "            new_list.append(letters)\n",
        "new_list"
      ]
    },
    {
      "cell_type": "markdown",
      "source": [
        "Write an LC which contains the letters of the words present in listOfWords excluding the letter t."
      ],
      "metadata": {
        "id": "3iggslPQgT4z"
      }
    },
    {
      "cell_type": "code",
      "execution_count": null,
      "metadata": {
        "id": "kmbDPCLH-pN3"
      },
      "outputs": [],
      "source": [
        "listOfWords = [\"this\",\"is\",\"the\",\"list\",\"of\",\"words\"]\n",
        "new_list =\n",
        "new_list"
      ]
    },
    {
      "cell_type": "markdown",
      "source": [
        "Write a LC which contains the words greater than 4. Each word occurence in the final list is equal to the length of the word"
      ],
      "metadata": {
        "id": "vw7eQGwrggSZ"
      }
    },
    {
      "cell_type": "code",
      "execution_count": null,
      "metadata": {
        "id": "lAGfIuVXHTgP",
        "colab": {
          "base_uri": "https://localhost:8080/"
        },
        "outputId": "ae6d2e71-0868-46a5-d4fe-c6ef7b50b3ac"
      },
      "outputs": [
        {
          "output_type": "execute_result",
          "data": {
            "text/plain": [
              "['words',\n",
              " 'words',\n",
              " 'words',\n",
              " 'words',\n",
              " 'words',\n",
              " 'words',\n",
              " 'words',\n",
              " 'words',\n",
              " 'words',\n",
              " 'words']"
            ]
          },
          "metadata": {},
          "execution_count": 5
        }
      ],
      "source": [
        "listOfWords = [\"this\",\"is\",\"the\",\"list\",\"of\",\"words\", \"words\"]\n",
        "new_list = []\n",
        "\n",
        "for word in listOfWords:\n",
        "    for letter in word:\n",
        "        if len(word)>4:\n",
        "            new_list.append(word)\n",
        "\n",
        "new_list"
      ]
    },
    {
      "cell_type": "code",
      "execution_count": null,
      "metadata": {
        "colab": {
          "base_uri": "https://localhost:8080/"
        },
        "id": "ld_HSDC2FQyM",
        "outputId": "5604a1f5-9e12-4129-b9b8-5d758d8730b3"
      },
      "outputs": [
        {
          "data": {
            "text/plain": [
              "['words', 'words', 'words', 'words', 'words']"
            ]
          },
          "execution_count": 14,
          "metadata": {},
          "output_type": "execute_result"
        }
      ],
      "source": [
        "listOfWords = [\"this\",\"is\",\"the\",\"list\",\"of\",\"words\"]\n",
        "\n",
        "new_list =\n",
        "new_list"
      ]
    },
    {
      "cell_type": "markdown",
      "source": [
        "Write a DC which for 5 keys where the coressponding values are key +1 and keys are greater than 5."
      ],
      "metadata": {
        "id": "r-gADvCbhKm8"
      }
    },
    {
      "cell_type": "code",
      "execution_count": null,
      "metadata": {
        "colab": {
          "base_uri": "https://localhost:8080/"
        },
        "id": "IGiNMGSJ_VL5",
        "outputId": "69b0045f-1e1f-4f55-e8b1-b07a6f9451d6"
      },
      "outputs": [
        {
          "output_type": "execute_result",
          "data": {
            "text/plain": [
              "{6: 7, 7: 8, 8: 9, 9: 10}"
            ]
          },
          "metadata": {},
          "execution_count": 6
        }
      ],
      "source": [
        "d =\n",
        "d"
      ]
    },
    {
      "cell_type": "markdown",
      "source": [
        "Write a DC which for the keys are the dna in dna_list and where the coressponding values are the AT content of the dna sequences."
      ],
      "metadata": {
        "id": "WF-myD_LhZgS"
      }
    },
    {
      "cell_type": "code",
      "execution_count": null,
      "metadata": {
        "colab": {
          "base_uri": "https://localhost:8080/"
        },
        "id": "XGUppEoMBKhU",
        "outputId": "44311934-e9fa-4437-8ca2-f710f0243d81"
      },
      "outputs": [
        {
          "output_type": "execute_result",
          "data": {
            "text/plain": [
              "{'TAGC': 0.5, 'ACGTATGC': 0.5, 'ATG': 0.6666666666666666, 'ACGGCTAG': 0.375}"
            ]
          },
          "metadata": {},
          "execution_count": 7
        }
      ],
      "source": [
        "dna_list = ['TAGC', 'ACGTATGC', 'ATG', 'ACGGCTAG']\n",
        "\n",
        "# func\n",
        "\n",
        "d = # DC\n",
        "d"
      ]
    },
    {
      "cell_type": "markdown",
      "source": [
        "Write a DC which for the keys are the words in listOfWords and where the coressponding values are the len of the words."
      ],
      "metadata": {
        "id": "Ojv5R_q-hiLI"
      }
    },
    {
      "cell_type": "code",
      "execution_count": null,
      "metadata": {
        "colab": {
          "base_uri": "https://localhost:8080/"
        },
        "id": "I_zEgC9IB7iI",
        "outputId": "fdd6ec8f-41e5-4905-af9d-5bdc222aeef4"
      },
      "outputs": [
        {
          "output_type": "execute_result",
          "data": {
            "text/plain": [
              "{'this': 4, 'is': 2, 'the': 3, 'list': 4, 'of': 2, 'words': 5}"
            ]
          },
          "metadata": {},
          "execution_count": 8
        }
      ],
      "source": [
        "listOfWords = [\"this\",\"is\",\"the\",\"list\",\"of\",\"words\"]\n",
        "\n",
        "d = # DC\n",
        "d"
      ]
    },
    {
      "cell_type": "markdown",
      "source": [
        "Create a set containing first 500 even numbers"
      ],
      "metadata": {
        "id": "6aTBl40Khtrq"
      }
    },
    {
      "cell_type": "code",
      "execution_count": null,
      "metadata": {
        "colab": {
          "base_uri": "https://localhost:8080/"
        },
        "id": "gFEjB4RMDZ7y",
        "outputId": "969e8538-3b4b-492b-a6e3-edd59f7fb090"
      },
      "outputs": [
        {
          "output_type": "execute_result",
          "data": {
            "text/plain": [
              "{0,\n",
              " 2,\n",
              " 4,\n",
              " 6,\n",
              " 8,\n",
              " 10,\n",
              " 12,\n",
              " 14,\n",
              " 16,\n",
              " 18,\n",
              " 20,\n",
              " 22,\n",
              " 24,\n",
              " 26,\n",
              " 28,\n",
              " 30,\n",
              " 32,\n",
              " 34,\n",
              " 36,\n",
              " 38,\n",
              " 40,\n",
              " 42,\n",
              " 44,\n",
              " 46,\n",
              " 48,\n",
              " 50,\n",
              " 52,\n",
              " 54,\n",
              " 56,\n",
              " 58,\n",
              " 60,\n",
              " 62,\n",
              " 64,\n",
              " 66,\n",
              " 68,\n",
              " 70,\n",
              " 72,\n",
              " 74,\n",
              " 76,\n",
              " 78,\n",
              " 80,\n",
              " 82,\n",
              " 84,\n",
              " 86,\n",
              " 88,\n",
              " 90,\n",
              " 92,\n",
              " 94,\n",
              " 96,\n",
              " 98,\n",
              " 100,\n",
              " 102,\n",
              " 104,\n",
              " 106,\n",
              " 108,\n",
              " 110,\n",
              " 112,\n",
              " 114,\n",
              " 116,\n",
              " 118,\n",
              " 120,\n",
              " 122,\n",
              " 124,\n",
              " 126,\n",
              " 128,\n",
              " 130,\n",
              " 132,\n",
              " 134,\n",
              " 136,\n",
              " 138,\n",
              " 140,\n",
              " 142,\n",
              " 144,\n",
              " 146,\n",
              " 148,\n",
              " 150,\n",
              " 152,\n",
              " 154,\n",
              " 156,\n",
              " 158,\n",
              " 160,\n",
              " 162,\n",
              " 164,\n",
              " 166,\n",
              " 168,\n",
              " 170,\n",
              " 172,\n",
              " 174,\n",
              " 176,\n",
              " 178,\n",
              " 180,\n",
              " 182,\n",
              " 184,\n",
              " 186,\n",
              " 188,\n",
              " 190,\n",
              " 192,\n",
              " 194,\n",
              " 196,\n",
              " 198,\n",
              " 200,\n",
              " 202,\n",
              " 204,\n",
              " 206,\n",
              " 208,\n",
              " 210,\n",
              " 212,\n",
              " 214,\n",
              " 216,\n",
              " 218,\n",
              " 220,\n",
              " 222,\n",
              " 224,\n",
              " 226,\n",
              " 228,\n",
              " 230,\n",
              " 232,\n",
              " 234,\n",
              " 236,\n",
              " 238,\n",
              " 240,\n",
              " 242,\n",
              " 244,\n",
              " 246,\n",
              " 248,\n",
              " 250,\n",
              " 252,\n",
              " 254,\n",
              " 256,\n",
              " 258,\n",
              " 260,\n",
              " 262,\n",
              " 264,\n",
              " 266,\n",
              " 268,\n",
              " 270,\n",
              " 272,\n",
              " 274,\n",
              " 276,\n",
              " 278,\n",
              " 280,\n",
              " 282,\n",
              " 284,\n",
              " 286,\n",
              " 288,\n",
              " 290,\n",
              " 292,\n",
              " 294,\n",
              " 296,\n",
              " 298,\n",
              " 300,\n",
              " 302,\n",
              " 304,\n",
              " 306,\n",
              " 308,\n",
              " 310,\n",
              " 312,\n",
              " 314,\n",
              " 316,\n",
              " 318,\n",
              " 320,\n",
              " 322,\n",
              " 324,\n",
              " 326,\n",
              " 328,\n",
              " 330,\n",
              " 332,\n",
              " 334,\n",
              " 336,\n",
              " 338,\n",
              " 340,\n",
              " 342,\n",
              " 344,\n",
              " 346,\n",
              " 348,\n",
              " 350,\n",
              " 352,\n",
              " 354,\n",
              " 356,\n",
              " 358,\n",
              " 360,\n",
              " 362,\n",
              " 364,\n",
              " 366,\n",
              " 368,\n",
              " 370,\n",
              " 372,\n",
              " 374,\n",
              " 376,\n",
              " 378,\n",
              " 380,\n",
              " 382,\n",
              " 384,\n",
              " 386,\n",
              " 388,\n",
              " 390,\n",
              " 392,\n",
              " 394,\n",
              " 396,\n",
              " 398,\n",
              " 400,\n",
              " 402,\n",
              " 404,\n",
              " 406,\n",
              " 408,\n",
              " 410,\n",
              " 412,\n",
              " 414,\n",
              " 416,\n",
              " 418,\n",
              " 420,\n",
              " 422,\n",
              " 424,\n",
              " 426,\n",
              " 428,\n",
              " 430,\n",
              " 432,\n",
              " 434,\n",
              " 436,\n",
              " 438,\n",
              " 440,\n",
              " 442,\n",
              " 444,\n",
              " 446,\n",
              " 448,\n",
              " 450,\n",
              " 452,\n",
              " 454,\n",
              " 456,\n",
              " 458,\n",
              " 460,\n",
              " 462,\n",
              " 464,\n",
              " 466,\n",
              " 468,\n",
              " 470,\n",
              " 472,\n",
              " 474,\n",
              " 476,\n",
              " 478,\n",
              " 480,\n",
              " 482,\n",
              " 484,\n",
              " 486,\n",
              " 488,\n",
              " 490,\n",
              " 492,\n",
              " 494,\n",
              " 496,\n",
              " 498,\n",
              " 500,\n",
              " 502,\n",
              " 504,\n",
              " 506,\n",
              " 508,\n",
              " 510,\n",
              " 512,\n",
              " 514,\n",
              " 516,\n",
              " 518,\n",
              " 520,\n",
              " 522,\n",
              " 524,\n",
              " 526,\n",
              " 528,\n",
              " 530,\n",
              " 532,\n",
              " 534,\n",
              " 536,\n",
              " 538,\n",
              " 540,\n",
              " 542,\n",
              " 544,\n",
              " 546,\n",
              " 548,\n",
              " 550,\n",
              " 552,\n",
              " 554,\n",
              " 556,\n",
              " 558,\n",
              " 560,\n",
              " 562,\n",
              " 564,\n",
              " 566,\n",
              " 568,\n",
              " 570,\n",
              " 572,\n",
              " 574,\n",
              " 576,\n",
              " 578,\n",
              " 580,\n",
              " 582,\n",
              " 584,\n",
              " 586,\n",
              " 588,\n",
              " 590,\n",
              " 592,\n",
              " 594,\n",
              " 596,\n",
              " 598,\n",
              " 600,\n",
              " 602,\n",
              " 604,\n",
              " 606,\n",
              " 608,\n",
              " 610,\n",
              " 612,\n",
              " 614,\n",
              " 616,\n",
              " 618,\n",
              " 620,\n",
              " 622,\n",
              " 624,\n",
              " 626,\n",
              " 628,\n",
              " 630,\n",
              " 632,\n",
              " 634,\n",
              " 636,\n",
              " 638,\n",
              " 640,\n",
              " 642,\n",
              " 644,\n",
              " 646,\n",
              " 648,\n",
              " 650,\n",
              " 652,\n",
              " 654,\n",
              " 656,\n",
              " 658,\n",
              " 660,\n",
              " 662,\n",
              " 664,\n",
              " 666,\n",
              " 668,\n",
              " 670,\n",
              " 672,\n",
              " 674,\n",
              " 676,\n",
              " 678,\n",
              " 680,\n",
              " 682,\n",
              " 684,\n",
              " 686,\n",
              " 688,\n",
              " 690,\n",
              " 692,\n",
              " 694,\n",
              " 696,\n",
              " 698,\n",
              " 700,\n",
              " 702,\n",
              " 704,\n",
              " 706,\n",
              " 708,\n",
              " 710,\n",
              " 712,\n",
              " 714,\n",
              " 716,\n",
              " 718,\n",
              " 720,\n",
              " 722,\n",
              " 724,\n",
              " 726,\n",
              " 728,\n",
              " 730,\n",
              " 732,\n",
              " 734,\n",
              " 736,\n",
              " 738,\n",
              " 740,\n",
              " 742,\n",
              " 744,\n",
              " 746,\n",
              " 748,\n",
              " 750,\n",
              " 752,\n",
              " 754,\n",
              " 756,\n",
              " 758,\n",
              " 760,\n",
              " 762,\n",
              " 764,\n",
              " 766,\n",
              " 768,\n",
              " 770,\n",
              " 772,\n",
              " 774,\n",
              " 776,\n",
              " 778,\n",
              " 780,\n",
              " 782,\n",
              " 784,\n",
              " 786,\n",
              " 788,\n",
              " 790,\n",
              " 792,\n",
              " 794,\n",
              " 796,\n",
              " 798,\n",
              " 800,\n",
              " 802,\n",
              " 804,\n",
              " 806,\n",
              " 808,\n",
              " 810,\n",
              " 812,\n",
              " 814,\n",
              " 816,\n",
              " 818,\n",
              " 820,\n",
              " 822,\n",
              " 824,\n",
              " 826,\n",
              " 828,\n",
              " 830,\n",
              " 832,\n",
              " 834,\n",
              " 836,\n",
              " 838,\n",
              " 840,\n",
              " 842,\n",
              " 844,\n",
              " 846,\n",
              " 848,\n",
              " 850,\n",
              " 852,\n",
              " 854,\n",
              " 856,\n",
              " 858,\n",
              " 860,\n",
              " 862,\n",
              " 864,\n",
              " 866,\n",
              " 868,\n",
              " 870,\n",
              " 872,\n",
              " 874,\n",
              " 876,\n",
              " 878,\n",
              " 880,\n",
              " 882,\n",
              " 884,\n",
              " 886,\n",
              " 888,\n",
              " 890,\n",
              " 892,\n",
              " 894,\n",
              " 896,\n",
              " 898,\n",
              " 900,\n",
              " 902,\n",
              " 904,\n",
              " 906,\n",
              " 908,\n",
              " 910,\n",
              " 912,\n",
              " 914,\n",
              " 916,\n",
              " 918,\n",
              " 920,\n",
              " 922,\n",
              " 924,\n",
              " 926,\n",
              " 928,\n",
              " 930,\n",
              " 932,\n",
              " 934,\n",
              " 936,\n",
              " 938,\n",
              " 940,\n",
              " 942,\n",
              " 944,\n",
              " 946,\n",
              " 948,\n",
              " 950,\n",
              " 952,\n",
              " 954,\n",
              " 956,\n",
              " 958,\n",
              " 960,\n",
              " 962,\n",
              " 964,\n",
              " 966,\n",
              " 968,\n",
              " 970,\n",
              " 972,\n",
              " 974,\n",
              " 976,\n",
              " 978,\n",
              " 980,\n",
              " 982,\n",
              " 984,\n",
              " 986,\n",
              " 988,\n",
              " 990,\n",
              " 992,\n",
              " 994,\n",
              " 996,\n",
              " 998}"
            ]
          },
          "metadata": {},
          "execution_count": 2
        }
      ],
      "source": [
        "even_integer = # DC\n",
        "even_integer"
      ]
    },
    {
      "cell_type": "code",
      "execution_count": null,
      "metadata": {
        "colab": {
          "base_uri": "https://localhost:8080/"
        },
        "id": "Hlfz5eACEhsX",
        "outputId": "09ec4129-f837-45ce-bbd3-d7c4856d8bea"
      },
      "outputs": [
        {
          "name": "stdout",
          "output_type": "stream",
          "text": [
            "[0.5, 0.5, 0.6666666666666666, 0.375]\n",
            "{'TAGC': 0.5, 'ACGTATGC': 0.5, 'ATG': 0.6666666666666666, 'ACGGCTAG': 0.375}\n",
            "{0.5, 0.6666666666666666, 0.375}\n"
          ]
        }
      ],
      "source": [
        "dna_list = ['TAGC', 'ACGTATGC', 'ATG', 'ACGGCTAG']\n",
        "\n",
        "def at_content (dna):\n",
        "  at = (dna.count('A') + dna.count('T')) / len(dna)\n",
        "  return at\n",
        "\n",
        "new_list = [at_content(x) for x in dna_list]\n",
        "print(new_list)\n",
        "new_dictionary = {x:at_content(x) for x in dna_list}\n",
        "print(new_dictionary)\n",
        "new_set = {at_content(x) for x in dna_list}\n",
        "print(new_set)"
      ]
    }
  ],
  "metadata": {
    "colab": {
      "provenance": []
    },
    "hide_input": false,
    "kernelspec": {
      "display_name": "Python 3",
      "language": "python",
      "name": "python3"
    },
    "language_info": {
      "codemirror_mode": {
        "name": "ipython",
        "version": 3
      },
      "file_extension": ".py",
      "mimetype": "text/x-python",
      "name": "python",
      "nbconvert_exporter": "python",
      "pygments_lexer": "ipython3",
      "version": "3.8.3"
    },
    "toc": {
      "base_numbering": 1,
      "nav_menu": {},
      "number_sections": true,
      "sideBar": true,
      "skip_h1_title": false,
      "title_cell": "Table of Contents",
      "title_sidebar": "Contents",
      "toc_cell": false,
      "toc_position": {},
      "toc_section_display": true,
      "toc_window_display": false
    }
  },
  "nbformat": 4,
  "nbformat_minor": 0
}