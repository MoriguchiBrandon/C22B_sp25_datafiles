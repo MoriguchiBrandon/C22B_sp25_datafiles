{
  "cells": [
    {
      "cell_type": "markdown",
      "metadata": {
        "id": "ZOyuthrq-r__"
      },
      "source": [
        "## Complex Data Structures with Trees##"
      ]
    },
    {
      "cell_type": "markdown",
      "metadata": {
        "id": "osU1QpiJ-sAG"
      },
      "source": [
        "![imports](http://res.cloudinary.com/dyd911kmh/image/upload/c_scale,f_auto,q_auto:best,w_700/v1512740202/Template_2_oxrskq.png)\n",
        "[source](https://www.datacamp.com/community/tutorials/data-structures-python)"
      ]
    },
    {
      "cell_type": "markdown",
      "metadata": {
        "id": "z5JTfWcq-sAH"
      },
      "source": [
        "## Linear data structures ##\n",
        "* Stacks\n",
        "    * A stack is a container of objects that are inserted and removed according to the Last-In-First-Out (LIFO) concept.\n",
        "    * Real world scenario: a stack of plates in the kitchen.\n",
        "    * Comp. Sci. scenario: evaluating expressions and syntax parsing, scheduling algorithms/routines, etc.\n",
        "  \n",
        "* Queues\n",
        "    * A queue a container of objects that are inserted and removed according to the First-In-First-Out (FIFO) concept.\n",
        "    * Real world scenario: line at the supermarket checkout.\n",
        "    \n",
        "\n",
        "## Non-linear data structures ##\n",
        "* Graphs\n",
        "    * A graph are networks consisting of nodes, also known as vertices which may or may not be connected to each other. The lines or the paths that connect two nodes are called edges. Edges can have directions (directed graph) and/or having weights (weighted graph).\n",
        "    * Real world scenario: Social networks, maps, flight schedule, etc.\n",
        "    \n",
        "  \n",
        "<img src=\"https://s1.qwant.com/thumbr/0x380/9/d/b7d083f679394c250de73baa41844603e4ba087278c7fc7324d2050646b005/atsp1.png?u=http%3A%2F%2Fsupport.sas.com%2Fdocumentation%2Fcdl%2Fen%2Fornoaug%2F68159%2FHTML%2Fdefault%2Fimages%2Fatsp1.png&q=0&b=1&p=0&a=1\" width=200>\n",
        "    \n",
        "* Trees\n",
        "   * A tree is a collection of nodes (starting at a root node), where each node is a data structure consisting of a value and a list of references to nodes (the \"children\"), with the constrains that no references is duplicated, and none points to the root.\n",
        "   \n",
        "<img src=\"https://upload.wikimedia.org/wikipedia/commons/thumb/5/5f/Tree_%28computer_science%29.svg/1920px-Tree_%28computer_science%29.svg.png\"  width=200>"
      ]
    },
    {
      "cell_type": "markdown",
      "metadata": {
        "id": "xdfvhpKC-sAI"
      },
      "source": [
        "## Use Python dictionary to implement a graph ##\n",
        "<img src=\"https://s2.qwant.com/thumbr/0x0/d/b/affb770257dde1432da153dce8adb4cc1b4d05bd8c333e793533322d109ad1/A-simple-undirected-graph-used-to-illustrate-the-vertex-cover-and-reach-problems.png?u=https%3A%2F%2Fwww.researchgate.net%2Fprofile%2FDeepak_Puthal2%2Fpublication%2F275771321%2Ffigure%2Ffig1%2FAS%3A294524636155909%401447231553660%2FA-simple-undirected-graph-used-to-illustrate-the-vertex-cover-and-reach-problems.png&q=0&b=1&p=0&a=1\" width=250>"
      ]
    },
    {
      "cell_type": "code",
      "execution_count": 9,
      "metadata": {
        "id": "wy7j0oi5-sAJ"
      },
      "outputs": [],
      "source": [
        "graph = { \"A\" : [\"B\"],\n",
        "          \"B\" : [\"A\", \"C\"],\n",
        "          \"C\" : [\"B\", \"D\", \"E\"],\n",
        "          \"D\" : [\"C\", \"E\", \"F\", \"G\"],\n",
        "          \"E\" : [\"C\", \"D\", \"F\"],\n",
        "          \"F\" : [\"D\", \"E\"],\n",
        "          \"G\" : [\"D\"]\n",
        "        }"
      ]
    },
    {
      "cell_type": "code",
      "source": [
        "#! pip install networkx matplotlib\n",
        "import networkx as nx\n",
        "import matplotlib.pyplot as plt\n",
        "G = nx.Graph(graph)\n",
        "pos = nx.spring_layout(G)  # positions for all nodes\n",
        "nx.draw(G, pos, with_labels=True)\n",
        "plt.show()\n",
        "print(G.edges)"
      ],
      "metadata": {
        "colab": {
          "base_uri": "https://localhost:8080/",
          "height": 533
        },
        "id": "5UOmEGEf9tol",
        "outputId": "1202539a-c70e-467f-829d-e7ef0ee6637f"
      },
      "execution_count": 18,
      "outputs": [
        {
          "output_type": "display_data",
          "data": {
            "text/plain": [
              "<Figure size 640x480 with 1 Axes>"
            ],
            "image/png": "[encoded data removed]"
          },
          "metadata": {}
        },
        {
          "output_type": "stream",
          "name": "stdout",
          "text": [
            "[('A', 'B'), ('B', 'C'), ('C', 'D'), ('C', 'E'), ('D', 'E'), ('D', 'F'), ('D', 'G'), ('E', 'F')]\n"
          ]
        }
      ]
    },
    {
      "cell_type": "markdown",
      "metadata": {
        "id": "BB9mjdnM-sAK"
      },
      "source": [
        "### CL10:\n",
        "How many edges does the graph dictionary have?\n",
        "\n",
        "A) 3\n",
        "B) 4\n",
        "C) 7\n",
        "D) 8"
      ]
    },
    {
      "cell_type": "markdown",
      "metadata": {
        "id": "AckOBEJW-sAL"
      },
      "source": [
        "## Processing Tree-like Data\n",
        "In this hands-on exercise, we study means to store and manipulate information about taxonomic relationship among primates. We consider the following taxonomy showing a selection of primate taxa, where child taxa are indented underneath their parent:\n",
        "\n",
        "* Primates\n",
        "    - Haplorrhini\n",
        "        - Strepsirrhini #Simiiformes\n",
        "            - Hominoidea\n",
        "                - Pan troglodytes\n",
        "                - Pongo abelii\n",
        "        - Tarsiiformes\n",
        "            - Tarsius tarsier\n",
        "    - Strepsirrhini\n",
        "         - Lorisidae\n",
        "             - Loris tardigradus\n",
        "         - Lemuriformes\n",
        "             - Allocebus trichotis\n",
        "         - Lorisiformes\n",
        "            - Galago alleni\n",
        "            - Galago moholi\n",
        "            \n",
        "\n",
        "**The following dictionary represents the Child-to-Parent relations of this tree:**\n"
      ]
    },
    {
      "cell_type": "code",
      "execution_count": 26,
      "metadata": {
        "id": "UO25BMTg-sAM"
      },
      "outputs": [],
      "source": [
        "# The dictionary tax_dict holds all the child-parent relations\n",
        "# so that each key represents a child and the corresponding value\n",
        "# represents the parent of that child\n",
        "tax_dict = {\n",
        "'Pan troglodytes' : 'Hominoidea',       'Pongo abelii' : 'Hominoidea',\n",
        "'Hominoidea' :  'Strepsirrhini',          'Simiiformes' : 'Haplorrhini',#'Simiiformes' : 'Haplorrhini',\n",
        "'Tarsius tarsier' : 'Tarsiiformes',     'Haplorrhini' : 'Primates',\n",
        "'Tarsiiformes' : 'Haplorrhini',         'Loris tardigradus' : 'Lorisidae',\n",
        "'Lorisidae' : 'Strepsirrhini',          'Strepsirrhini' : 'Primates',\n",
        "'Allocebus trichotis' : 'Lemuriformes', 'Lemuriformes' : 'Strepsirrhini',\n",
        "'Galago alleni' : 'Lorisiformes',       'Lorisiformes' : 'Strepsirrhini',\n",
        "'Galago moholi' : 'Lorisiformes'\n",
        "}"
      ]
    },
    {
      "cell_type": "markdown",
      "metadata": {
        "id": "0_7YKi8u-sAN"
      },
      "source": [
        "The following function is for finding exactly three parents for an organism. This function uses a dictionary in which the key is an organism whose value is the parent of that organism. Method dict.get(key)"
      ]
    },
    {
      "cell_type": "code",
      "execution_count": 28,
      "metadata": {
        "id": "RF03IbJX-sAN",
        "outputId": "f8c45e85-2d5d-48b5-f667-b6ccb3dd06d6",
        "colab": {
          "base_uri": "https://localhost:8080/"
        }
      },
      "outputs": [
        {
          "output_type": "stream",
          "name": "stdout",
          "text": [
            "['Primates', None, None]\n"
          ]
        }
      ],
      "source": [
        "# Function works with taxon that has exactly 3 ancestors\n",
        "def get_3_ancestors(taxon):\n",
        "    \"\"\"Non-recursive function that returns three ancestors for the\n",
        "       taxon passed as argument\"\"\"\n",
        "    # get() returns the value for the given key in the dictionary\n",
        "    first_parent = tax_dict.get(taxon)\n",
        "    second_parent = tax_dict.get(first_parent)\n",
        "    third_parent = tax_dict.get(second_parent)\n",
        "    return[first_parent, second_parent, third_parent]\n",
        "\n",
        "print(get_3_ancestors('Strepsirrhini'))"
      ]
    },
    {
      "cell_type": "code",
      "execution_count": 15,
      "metadata": {
        "code_folding": [],
        "id": "4ww40fdX-sAO",
        "outputId": "7a7769b4-94a7-4777-836f-faf7fa90d8f3",
        "colab": {
          "base_uri": "https://localhost:8080/"
        }
      },
      "outputs": [
        {
          "output_type": "stream",
          "name": "stdout",
          "text": [
            "['Simiiformes', 'Haplorrhini', 'Primates']\n"
          ]
        }
      ],
      "source": [
        "def get_all_ancestors(taxon):\n",
        "    ancestors = [] #contain all the ancestors result\n",
        "\n",
        "    while taxon in tax_dict: #for, while\n",
        "        parent = tax_dict.get(taxon)\n",
        "        # print(\"Parent: \" + parent)\n",
        "        ancestors.append(parent)\n",
        "        taxon = parent #changes the taxon to parent\n",
        "\n",
        "    return ancestors\n",
        "\n",
        "print(get_all_ancestors('Hominoidea'))"
      ]
    },
    {
      "cell_type": "markdown",
      "metadata": {
        "id": "OCRgumwx-sAO"
      },
      "source": [
        "**Another way to representing the tree above is to create a data structure to show the Parent-to-Child relations of this tree:**\n",
        "Here we use a dictionary where the key is the parent and the value is a list of all its children: parent -> [children]"
      ]
    },
    {
      "cell_type": "code",
      "execution_count": 16,
      "metadata": {
        "id": "wSkJfZgU-sAP"
      },
      "outputs": [],
      "source": [
        "# The dictionary new_tax_dict holds all parent child relations\n",
        "#   so that each key represents a parent and its value is\n",
        "#   a list of all children of that parent\n",
        "\n",
        "# For example: 'Primates' is a parent that is stored as the key\n",
        "#   and 'Haplorrhini' and 'Strepsirrhini' are the corresponding\n",
        "#   children stored in a list that is the value of the key 'Primates'\n",
        "new_tax_dict = {\n",
        "    'Primates': ['Haplorrhini', 'Strepsirrhini'],\n",
        "    'Haplorrhini': ['Tarsiiformes', 'Simiiformes'],\n",
        "    'Tarsiiformes': ['Tarsius tarsier'],\n",
        "    'Simiiformes': ['Hominoidea'],\n",
        "    'Hominoidea': ['Pongo abelii', 'Pan troglodytes'],\n",
        "    'Strepsirrhini': ['Lorisidae', 'Lemuriformes', 'Lorisiformes'],\n",
        "    'Lorisidae': ['Loris tardigradus'],\n",
        "    'Lemuriformes': ['Allocebus trichotis'],\n",
        "    'Lorisiformes': ['Galago alleni','Galago moholi']\n",
        "\n",
        "}"
      ]
    },
    {
      "cell_type": "markdown",
      "metadata": {
        "id": "xZMgevAH-sAP"
      },
      "source": [
        "The following is an iterative function that returns a list of all the children and grandchildren of the taxon which is given as the argument. Run the cell below. Uncomment the print statements to see how a stack data structure works in finding all the children."
      ]
    },
    {
      "cell_type": "code",
      "execution_count": 29,
      "metadata": {
        "colab": {
          "base_uri": "https://localhost:8080/"
        },
        "id": "kiMFK4fq-sAP",
        "outputId": "b9865a66-d87d-4df1-9b60-41d59ee968bc"
      },
      "outputs": [
        {
          "output_type": "stream",
          "name": "stdout",
          "text": [
            "First stack: ['Strepsirrhini']\n",
            "\n",
            "Parent or Child that was Popped: Strepsirrhini\n",
            "Child(ren) of the Parent: ['Lorisidae', 'Lemuriformes', 'Lorisiformes']\n",
            "Stack: ['Lorisidae', 'Lemuriformes', 'Lorisiformes']\n",
            "Children: ['Strepsirrhini']\n",
            "\n",
            "Parent or Child that was Popped: Lorisiformes\n",
            "Child(ren) of the Parent: ['Galago alleni', 'Galago moholi']\n",
            "Stack: ['Lorisidae', 'Lemuriformes', 'Galago alleni', 'Galago moholi']\n",
            "Children: ['Strepsirrhini', 'Lorisiformes']\n",
            "\n",
            "Parent or Child that was Popped: Galago moholi\n",
            "Child(ren) of the Parent: []\n",
            "Stack: ['Lorisidae', 'Lemuriformes', 'Galago alleni']\n",
            "Children: ['Strepsirrhini', 'Lorisiformes', 'Galago moholi']\n",
            "\n",
            "Parent or Child that was Popped: Galago alleni\n",
            "Child(ren) of the Parent: []\n",
            "Stack: ['Lorisidae', 'Lemuriformes']\n",
            "Children: ['Strepsirrhini', 'Lorisiformes', 'Galago moholi', 'Galago alleni']\n",
            "\n",
            "Parent or Child that was Popped: Lemuriformes\n",
            "Child(ren) of the Parent: ['Allocebus trichotis']\n",
            "Stack: ['Lorisidae', 'Allocebus trichotis']\n",
            "Children: ['Strepsirrhini', 'Lorisiformes', 'Galago moholi', 'Galago alleni', 'Lemuriformes']\n",
            "\n",
            "Parent or Child that was Popped: Allocebus trichotis\n",
            "Child(ren) of the Parent: []\n",
            "Stack: ['Lorisidae']\n",
            "Children: ['Strepsirrhini', 'Lorisiformes', 'Galago moholi', 'Galago alleni', 'Lemuriformes', 'Allocebus trichotis']\n",
            "\n",
            "Parent or Child that was Popped: Lorisidae\n",
            "Child(ren) of the Parent: ['Loris tardigradus']\n",
            "Stack: ['Loris tardigradus']\n",
            "Children: ['Strepsirrhini', 'Lorisiformes', 'Galago moholi', 'Galago alleni', 'Lemuriformes', 'Allocebus trichotis', 'Lorisidae']\n",
            "\n",
            "Parent or Child that was Popped: Loris tardigradus\n",
            "Child(ren) of the Parent: []\n",
            "Stack: []\n",
            "Children: ['Strepsirrhini', 'Lorisiformes', 'Galago moholi', 'Galago alleni', 'Lemuriformes', 'Allocebus trichotis', 'Lorisidae', 'Loris tardigradus']\n",
            "\n",
            "['Lorisiformes', 'Galago moholi', 'Galago alleni', 'Lemuriformes', 'Allocebus trichotis', 'Lorisidae', 'Loris tardigradus']\n"
          ]
        }
      ],
      "source": [
        "def get_children(taxon):\n",
        "    children = [] #result -- the children\n",
        "\n",
        "    stack = [taxon] # list for the stack to go through\n",
        "    #the only information/item I have is taxon so I am adding that to a stack\n",
        "    print (\"First stack: \" + str(stack))\n",
        "    print()\n",
        "\n",
        "    while len(stack) != 0:\n",
        "        current_taxon = stack.pop() #remove the last item that I added or the parent I want to look at\n",
        "        print(\"Parent or Child that was Popped: \" + current_taxon)\n",
        "\n",
        "        #looks all the children that are from the current_taxon or parent\n",
        "        #if there is no child, then it returns an empty list\n",
        "        current_taxon_children = new_tax_dict.get(current_taxon, [])\n",
        "        print(\"Child(ren) of the Parent: \" + str(current_taxon_children))\n",
        "\n",
        "        #the reason we are extending is because we need to find all the children for the children\n",
        "        stack.extend (current_taxon_children)\n",
        "        print(\"Stack: \" + str(stack))\n",
        "\n",
        "        #append the parent to the children result\n",
        "        children.append(current_taxon)\n",
        "        print(\"Children: \" + str(children))\n",
        "\n",
        "        print()\n",
        "\n",
        "    return (str(children[1:]))\n",
        "\n",
        "\n",
        "print(get_children('Strepsirrhini'))"
      ]
    },
    {
      "cell_type": "code",
      "execution_count": null,
      "metadata": {
        "id": "dWGTkl0e-sAQ",
        "outputId": "d100d3a3-9493-465a-833a-be4928ceea64"
      },
      "outputs": [
        {
          "name": "stdout",
          "output_type": "stream",
          "text": [
            "First queue: ['Strepsirrhini']\n",
            "\n",
            "Parent or Child that was Popped: Strepsirrhini\n",
            "Child(ren) of the Parent: ['Lorisidae', 'Lemuriformes', 'Lorisiformes']\n",
            "Queue: ['Lorisidae', 'Lemuriformes', 'Lorisiformes']\n",
            "Children: ['Strepsirrhini']\n",
            "\n",
            "Parent or Child that was Popped: Lorisidae\n",
            "Child(ren) of the Parent: ['Loris tardigradus']\n",
            "Queue: ['Lemuriformes', 'Lorisiformes', 'Loris tardigradus']\n",
            "Children: ['Strepsirrhini', 'Lorisidae']\n",
            "\n",
            "Parent or Child that was Popped: Lemuriformes\n",
            "Child(ren) of the Parent: ['Allocebus trichotis']\n",
            "Queue: ['Lorisiformes', 'Loris tardigradus', 'Allocebus trichotis']\n",
            "Children: ['Strepsirrhini', 'Lorisidae', 'Lemuriformes']\n",
            "\n",
            "Parent or Child that was Popped: Lorisiformes\n",
            "Child(ren) of the Parent: ['Galago alleni', 'Galago moholi']\n",
            "Queue: ['Loris tardigradus', 'Allocebus trichotis', 'Galago alleni', 'Galago moholi']\n",
            "Children: ['Strepsirrhini', 'Lorisidae', 'Lemuriformes', 'Lorisiformes']\n",
            "\n",
            "Parent or Child that was Popped: Loris tardigradus\n",
            "Child(ren) of the Parent: []\n",
            "Queue: ['Allocebus trichotis', 'Galago alleni', 'Galago moholi']\n",
            "Children: ['Strepsirrhini', 'Lorisidae', 'Lemuriformes', 'Lorisiformes', 'Loris tardigradus']\n",
            "\n",
            "Parent or Child that was Popped: Allocebus trichotis\n",
            "Child(ren) of the Parent: []\n",
            "Queue: ['Galago alleni', 'Galago moholi']\n",
            "Children: ['Strepsirrhini', 'Lorisidae', 'Lemuriformes', 'Lorisiformes', 'Loris tardigradus', 'Allocebus trichotis']\n",
            "\n",
            "Parent or Child that was Popped: Galago alleni\n",
            "Child(ren) of the Parent: []\n",
            "Queue: ['Galago moholi']\n",
            "Children: ['Strepsirrhini', 'Lorisidae', 'Lemuriformes', 'Lorisiformes', 'Loris tardigradus', 'Allocebus trichotis', 'Galago alleni']\n",
            "\n",
            "Parent or Child that was Popped: Galago moholi\n",
            "Child(ren) of the Parent: []\n",
            "Queue: []\n",
            "Children: ['Strepsirrhini', 'Lorisidae', 'Lemuriformes', 'Lorisiformes', 'Loris tardigradus', 'Allocebus trichotis', 'Galago alleni', 'Galago moholi']\n",
            "\n",
            "['Lorisidae', 'Lemuriformes', 'Lorisiformes', 'Loris tardigradus', 'Allocebus trichotis', 'Galago alleni', 'Galago moholi']\n"
          ]
        }
      ],
      "source": [
        "def get_children(taxon):\n",
        "    children = [] #result -- the children\n",
        "\n",
        "    queue = [taxon] # list for the stack to go through\n",
        "    #the only information/item I have is taxon so I am adding that to a stack\n",
        "    print (\"First queue: \" + str(queue))\n",
        "    print()\n",
        "\n",
        "    while len(queue) != 0:\n",
        "        current_taxon = queue.pop(0) #remove the last item that I added or the parent I want to look at\n",
        "        print(\"Parent or Child that was Popped: \" + current_taxon)\n",
        "\n",
        "        #looks all the children that are from the current_taxon or parent\n",
        "        #if there is no child, then it returns an empty list\n",
        "        current_taxon_children = new_tax_dict.get(current_taxon, [])\n",
        "        print(\"Child(ren) of the Parent: \" + str(current_taxon_children))\n",
        "\n",
        "        #the reason we are extending is because we need to find all the children for the children\n",
        "        queue.extend (current_taxon_children)\n",
        "        print(\"Queue: \" + str(queue))\n",
        "\n",
        "        #append the parent to the children result\n",
        "        children.append(current_taxon)\n",
        "        print(\"Children: \" + str(children))\n",
        "\n",
        "        print()\n",
        "\n",
        "    return (str(children[1:]))\n",
        "\n",
        "\n",
        "print(get_children('Strepsirrhini'))"
      ]
    },
    {
      "cell_type": "code",
      "execution_count": null,
      "metadata": {
        "id": "XSTcvOuP-sAQ"
      },
      "outputs": [],
      "source": []
    }
  ],
  "metadata": {
    "hide_input": false,
    "kernelspec": {
      "display_name": "Python 3",
      "language": "python",
      "name": "python3"
    },
    "language_info": {
      "codemirror_mode": {
        "name": "ipython",
        "version": 3
      },
      "file_extension": ".py",
      "mimetype": "text/x-python",
      "name": "python",
      "nbconvert_exporter": "python",
      "pygments_lexer": "ipython3",
      "version": "3.8.3"
    },
    "toc": {
      "base_numbering": 1,
      "nav_menu": {},
      "number_sections": true,
      "sideBar": true,
      "skip_h1_title": false,
      "title_cell": "Table of Contents",
      "title_sidebar": "Contents",
      "toc_cell": false,
      "toc_position": {},
      "toc_section_display": true,
      "toc_window_display": false
    },
    "colab": {
      "provenance": []
    }
  },
  "nbformat": 4,
  "nbformat_minor": 0
}