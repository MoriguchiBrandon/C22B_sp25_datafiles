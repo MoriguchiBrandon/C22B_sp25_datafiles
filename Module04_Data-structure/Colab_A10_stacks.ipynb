{
  "cells": [
    {
      "cell_type": "markdown",
      "source": [
        "##**Stack Questions**"
      ],
      "metadata": {
        "id": "cP32wAV3Yi-4"
      }
    },
    {
      "cell_type": "markdown",
      "source": [
        "## Question 1: Write a function to sort a stack."
      ],
      "metadata": {
        "id": "KqdNjm1oY_ss"
      }
    },
    {
      "cell_type": "code",
      "source": [
        "def sort_stack(stack):\n",
        "  # Your code here\n",
        "\n",
        "stack = [34, 3, 31, 98, 92, 23]\n",
        "print(sort_stack(stack))"
      ],
      "metadata": {
        "id": "mb9K46p3Ym0N"
      },
      "execution_count": null,
      "outputs": []
    },
    {
      "cell_type": "markdown",
      "metadata": {
        "id": "jFxb6ss_Whwl"
      },
      "source": [
        "## Question 2: Depict the following image as a list.\n",
        "\n",
        "<img src=\"https://miro.medium.com/max/1050/1*XifPIMxbamGKhz5UAEdz2w.png\">\n",
        "\n",
        "#### Queue\n",
        "1. Add the number 9 to the list.\n",
        "2. Remove the first number (7) from the list.\n",
        "\n",
        "#### Stack\n",
        "3. Add the number 4 to the same list.\n",
        "4. Remove the last number added (4) from the list."
      ]
    },
    {
      "cell_type": "code",
      "execution_count": null,
      "metadata": {
        "id": "XOm7YLTEWhwm"
      },
      "outputs": [],
      "source": [
        "#Your Answer:"
      ]
    },
    {
      "cell_type": "markdown",
      "metadata": {
        "id": "tQ3kgHVtWhwn"
      },
      "source": [
        "#### Question 3: Nodes\n",
        "\n",
        "<img src=\"https://encrypted-tbn0.gstatic.com/images?q=tbn:ANd9GcQW8-twGk0hCILE-muHBnG93hZJh2Qvgs7pVA&s\">\n",
        "\n",
        "1. Use a data structure of your choice to denote the different nodes.\n",
        "\n",
        "2. Create a function that sums all of the \"children\". Test with the node 10 (Expected answer is 37).\n"
      ]
    },
    {
      "cell_type": "code",
      "execution_count": null,
      "metadata": {
        "id": "UU0rjzjXWhwn"
      },
      "outputs": [],
      "source": [
        "#Your Answer:"
      ]
    }
  ],
  "metadata": {
    "hide_input": false,
    "kernelspec": {
      "display_name": "Python 3",
      "language": "python",
      "name": "python3"
    },
    "language_info": {
      "codemirror_mode": {
        "name": "ipython",
        "version": 3
      },
      "file_extension": ".py",
      "mimetype": "text/x-python",
      "name": "python",
      "nbconvert_exporter": "python",
      "pygments_lexer": "ipython3",
      "version": "3.8.3"
    },
    "toc": {
      "base_numbering": 1,
      "nav_menu": {},
      "number_sections": true,
      "sideBar": true,
      "skip_h1_title": false,
      "title_cell": "Table of Contents",
      "title_sidebar": "Contents",
      "toc_cell": false,
      "toc_position": {},
      "toc_section_display": true,
      "toc_window_display": false
    },
    "colab": {
      "provenance": []
    }
  },
  "nbformat": 4,
  "nbformat_minor": 0
}