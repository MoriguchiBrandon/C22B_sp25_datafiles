{
  "cells": [
    {
      "cell_type": "markdown",
      "source": [
        "## Generator\n",
        "A type of function that allows you to declare a function that behaves like an iterator.\n",
        "\n",
        "How are *list* and *generator* different?"
      ],
      "metadata": {
        "id": "H4FMU4ImvbcQ"
      }
    },
    {
      "cell_type": "code",
      "source": [
        "### List\n",
        "nums = [x**2 for x in range(1000000)]\n",
        "\n",
        "### Generator\n",
        "def gen_squares():\n",
        "    for x in range(1000000):\n",
        "        yield x**2\n",
        "\n",
        "squares = gen_squares()\n",
        "# squares"
      ],
      "metadata": {
        "colab": {
          "base_uri": "https://localhost:8080/"
        },
        "id": "fq4tZ5FgvmI_",
        "outputId": "9b9f7190-6a59-43e4-8032-cba5710973a4"
      },
      "execution_count": null,
      "outputs": [
        {
          "output_type": "execute_result",
          "data": {
            "text/plain": [
              "<generator object gen_squares at 0x7953cdd0eb50>"
            ]
          },
          "metadata": {},
          "execution_count": 1
        }
      ]
    },
    {
      "cell_type": "markdown",
      "source": [
        "#### List comprehension\n",
        "In the example below, we build a list of numbers from 0 to n-1. All the numbers are stored in memory inside the `numbers` list.  \n",
        "\n",
        "What is the problem?  \n",
        "If n is very large, storing every nnumber in a list uses a lot of of RAM. We cannot afford to keep all n \"10 megabyte\" integers in memory."
      ],
      "metadata": {
        "id": "bG9Se9PEk6EY"
      }
    },
    {
      "cell_type": "code",
      "execution_count": null,
      "metadata": {
        "id": "UYqNq9wuSKSW",
        "outputId": "f3bb8f3f-e501-45a2-8b3b-e949318c93d6",
        "colab": {
          "base_uri": "https://localhost:8080/"
        }
      },
      "outputs": [
        {
          "output_type": "execute_result",
          "data": {
            "text/plain": [
              "499999500000"
            ]
          },
          "metadata": {},
          "execution_count": 1
        }
      ],
      "source": [
        "### Build and return a list\n",
        "def get_numbers(n):\n",
        "    num = 0\n",
        "    numbers = []\n",
        "    while num < n:\n",
        "        numbers.append(num)\n",
        "        num += 1\n",
        "    return numbers\n",
        "\n",
        "## Calculate the sum of 0 to 1000000\n",
        "a = get_numbers(1000000)\n",
        "## Create a list that can be generated from the given number than can be returned for the given number\n",
        "sum_of_nums = sum(a)\n",
        "sum_of_nums"
      ]
    },
    {
      "cell_type": "code",
      "execution_count": null,
      "metadata": {
        "id": "oXxBGPC9SKSZ",
        "outputId": "16e26b54-ecb6-4698-a9c5-add5eca0c385",
        "colab": {
          "base_uri": "https://localhost:8080/"
        }
      },
      "outputs": [
        {
          "output_type": "execute_result",
          "data": {
            "text/plain": [
              "2000"
            ]
          },
          "metadata": {},
          "execution_count": 3
        }
      ],
      "source": [
        "a[2000]"
      ]
    },
    {
      "cell_type": "markdown",
      "metadata": {
        "id": "J3pXu7JQSKSa"
      },
      "source": [
        "#### Generator\n",
        "Wrting a generator function builds a list of numbers, but yields one number at a time instead of building and storing the full list.\n",
        "It's more memory efficient, especially for large n."
      ]
    },
    {
      "cell_type": "code",
      "execution_count": null,
      "metadata": {
        "id": "Z1zOsqDBSKSc",
        "outputId": "808c4da1-6603-4e10-d7a2-4b0762a2b3be",
        "colab": {
          "base_uri": "https://localhost:8080/"
        }
      },
      "outputs": [
        {
          "output_type": "execute_result",
          "data": {
            "text/plain": [
              "499999500000"
            ]
          },
          "metadata": {},
          "execution_count": 1
        }
      ],
      "source": [
        "## Generator that yields items instead of returning a list\n",
        "def get_numbers(n):\n",
        "    num = 0\n",
        "    while num < n:\n",
        "        yield num\n",
        "        num += 1\n",
        "\n",
        "## Calculate the sum of 0 to 1000000\n",
        "b = get_numbers(1000000)\n",
        "sum_of_nums = sum(b)\n",
        "sum_of_nums"
      ]
    },
    {
      "cell_type": "code",
      "execution_count": null,
      "metadata": {
        "id": "fHX9JhjKSKSe",
        "outputId": "595093df-99d5-4353-aa6f-420a4daed058",
        "colab": {
          "base_uri": "https://localhost:8080/",
          "height": 141
        }
      },
      "outputs": [
        {
          "output_type": "error",
          "ename": "TypeError",
          "evalue": "'generator' object is not subscriptable",
          "traceback": [
            "\u001b[0;31m---------------------------------------------------------------------------\u001b[0m",
            "\u001b[0;31mTypeError\u001b[0m                                 Traceback (most recent call last)",
            "\u001b[0;32m<ipython-input-2-983eff83ec77>\u001b[0m in \u001b[0;36m<cell line: 0>\u001b[0;34m()\u001b[0m\n\u001b[0;32m----> 1\u001b[0;31m \u001b[0mb\u001b[0m\u001b[0;34m[\u001b[0m\u001b[0;36m2000\u001b[0m\u001b[0;34m]\u001b[0m\u001b[0;34m\u001b[0m\u001b[0;34m\u001b[0m\u001b[0m\n\u001b[0m",
            "\u001b[0;31mTypeError\u001b[0m: 'generator' object is not subscriptable"
          ]
        }
      ],
      "source": [
        "## Generators are iterators and don't store all their values in memory like a list.\n",
        "## You cannot directly access elements using indexing with b[2000]\n",
        "\n",
        "b[2000]"
      ]
    },
    {
      "cell_type": "markdown",
      "source": [
        "Here we have a list comprehension that builds a complete list of all 4-letter substrings (4-mers) from the DNA string. The entire list is stored in memory immediately.\n",
        "\n",
        "\n",
        "To convert this to a generator use `()` to indicate a generator expression. Generator generates one value at a time and not a full list."
      ],
      "metadata": {
        "id": "A2MuN4otLU37"
      }
    },
    {
      "cell_type": "code",
      "execution_count": null,
      "metadata": {
        "id": "cQCE3R1ESKSe",
        "outputId": "bdd43b70-7c8b-4693-b156-0b71ca377b7c",
        "colab": {
          "base_uri": "https://localhost:8080/"
        }
      },
      "outputs": [
        {
          "output_type": "execute_result",
          "data": {
            "text/plain": [
              "<generator object <genexpr> at 0x7d3b205d2500>"
            ]
          },
          "metadata": {},
          "execution_count": 13
        }
      ],
      "source": [
        "## list comprehension []\n",
        "# dna = \"aattagatagatgatgcgctcggcgcctcgaga\"\n",
        "# kmers = [dna[a:a+4] for a in range(len(dna) - 4)]\n",
        "# kmers\n",
        "\n",
        "## generator expression ()\n",
        "dna = \"aattagatagatgatgcgctcggcgcctcgaga\"\n",
        "kmers = (dna[a:a+4] for a in range(len(dna) - 4))\n",
        "kmers"
      ]
    },
    {
      "cell_type": "code",
      "execution_count": null,
      "metadata": {
        "colab": {
          "base_uri": "https://localhost:8080/"
        },
        "id": "sAlosv_mSKSf",
        "outputId": "606c48c0-8fce-4523-e0a2-6a805010d58f"
      },
      "outputs": [
        {
          "output_type": "stream",
          "name": "stdout",
          "text": [
            "0 2 4 6 8 10 12 14 16 18 20 22 24 26 28 30 32 34 36 38 40 42 44 46 48 50 52 54 56 58 60 62 64 66 68 70 72 74 76 78 80 82 84 86 88 90 92 94 96 98\n"
          ]
        }
      ],
      "source": [
        "## list comprehension\n",
        "doubles = [2 * n for n in range(50)]\n",
        "# print(type(doubles))\n",
        "print(*doubles) #asterisk to unpack an iterable into positional arguments"
      ]
    },
    {
      "cell_type": "code",
      "execution_count": null,
      "metadata": {
        "colab": {
          "base_uri": "https://localhost:8080/"
        },
        "id": "XWCTVRqnSKSh",
        "outputId": "cc233a44-9eeb-46e9-fce3-f8d245095057"
      },
      "outputs": [
        {
          "output_type": "stream",
          "name": "stdout",
          "text": [
            "<generator object <genexpr> at 0x7d3b204e6e90>\n"
          ]
        }
      ],
      "source": [
        "## generator expression\n",
        "doubles = (2 * n for n in range(50)) # not a tuple\n",
        "print(doubles)\n",
        "\n",
        "## To access the values, you must iterate:\n",
        "# for num in doubles:\n",
        "    # print(num)"
      ]
    },
    {
      "cell_type": "markdown",
      "source": [
        "### `yield`\n",
        "To make a function a generator, use `yield`. Each call to `yield` pauses the function and returns a value and then resume where function left off. This is efficient for large sequences where you do not need to generate the entire list at once."
      ],
      "metadata": {
        "id": "vvWRCGLpUljS"
      }
    },
    {
      "cell_type": "code",
      "source": [
        "def a(n):\n",
        "  for i in range(n):\n",
        "    yield i/2"
      ],
      "metadata": {
        "id": "mV4rbJCbde5p"
      },
      "execution_count": null,
      "outputs": []
    },
    {
      "cell_type": "code",
      "source": [
        "## Generate a generator object a(9) and output values\n",
        "list(a(9))"
      ],
      "metadata": {
        "colab": {
          "base_uri": "https://localhost:8080/"
        },
        "id": "gUttknt4dl49",
        "outputId": "632484f4-5c63-4919-8227-0072646e90a2"
      },
      "execution_count": null,
      "outputs": [
        {
          "output_type": "execute_result",
          "data": {
            "text/plain": [
              "[0.0, 0.5, 1.0, 1.5, 2.0, 2.5, 3.0, 3.5, 4.0]"
            ]
          },
          "metadata": {},
          "execution_count": 22
        }
      ]
    },
    {
      "cell_type": "code",
      "source": [
        "## Another example using list comprehension\n",
        "def sq_num(nums):\n",
        "  res = []\n",
        "  for i in nums:\n",
        "    res.append(i*i)\n",
        "  return res\n",
        "\n",
        "my_nums = sq_num([1, 2, 3])\n",
        "my_nums"
      ],
      "metadata": {
        "id": "QZik0VSldmyk",
        "colab": {
          "base_uri": "https://localhost:8080/"
        },
        "outputId": "23091975-d030-4a26-928e-6fbde1b16848"
      },
      "execution_count": null,
      "outputs": [
        {
          "output_type": "execute_result",
          "data": {
            "text/plain": [
              "[1, 4, 9]"
            ]
          },
          "metadata": {},
          "execution_count": 23
        }
      ]
    },
    {
      "cell_type": "markdown",
      "source": [
        "This is a generator function that uses `yield` to return one at a time the square of each number in the list nums. Unlike return, which ends the function, yield pauses the function and remembers where it left off.\n",
        "\n",
        "`next()` yields 1 and the generator pauses and wait for the next call.\n"
      ],
      "metadata": {
        "id": "n7tgy9JCbXDu"
      }
    },
    {
      "cell_type": "code",
      "source": [
        "## Turn into a generator expression\n",
        "# Do not hold entire result in memory just yield one result at a time\n",
        "def sq_nums(nums):\n",
        "  for i in nums:\n",
        "    yield i*i\n",
        "\n",
        "my_nums = sq_nums([1, 2, 3]) # Creates a generator object\n",
        "# print(my_nums)\n",
        "\n",
        "## Generator yield first element and pauses waiting for the next call\n",
        "next(my_nums)\n",
        "next(my_nums)\n",
        "next(my_nums)\n",
        "# What happens if the elements end? We get an exeception which asks us to StopIteration\n"
      ],
      "metadata": {
        "colab": {
          "base_uri": "https://localhost:8080/"
        },
        "id": "T5t58LhCcFWu",
        "outputId": "1fb977a7-cda4-41b1-8bb8-0aaf7a4a1a90"
      },
      "execution_count": null,
      "outputs": [
        {
          "output_type": "execute_result",
          "data": {
            "text/plain": [
              "9"
            ]
          },
          "metadata": {},
          "execution_count": 55
        }
      ]
    },
    {
      "cell_type": "code",
      "execution_count": null,
      "metadata": {
        "id": "B-rvOCfpSKSh"
      },
      "outputs": [],
      "source": [
        "class get_odds:\n",
        "    def __init__(self, max):\n",
        "        self.n=3\n",
        "        self.max=max\n",
        "\n",
        "    def __iter__(self):\n",
        "        return self\n",
        "\n",
        "    def __next__(self):\n",
        "        if self.n <= self.max:\n",
        "            result = self.n\n",
        "            self.n += 2\n",
        "            return result\n",
        "        else:\n",
        "            raise StopIteration\n",
        "numbers = get_odds(10)"
      ]
    },
    {
      "cell_type": "code",
      "source": [
        "print(numbers)"
      ],
      "metadata": {
        "colab": {
          "base_uri": "https://localhost:8080/"
        },
        "id": "_KPo0EKqDfxS",
        "outputId": "a0bb631f-9cbe-495e-f91e-47629f87a239"
      },
      "execution_count": null,
      "outputs": [
        {
          "output_type": "stream",
          "name": "stdout",
          "text": [
            "<__main__.get_odds object at 0x7d3aef663290>\n"
          ]
        }
      ]
    },
    {
      "cell_type": "code",
      "source": [
        "next(numbers)\n",
        "next(numbers)"
      ],
      "metadata": {
        "colab": {
          "base_uri": "https://localhost:8080/"
        },
        "id": "URXw_2Jodc9D",
        "outputId": "04d49678-6fbc-4243-df20-69c1e491f8bc"
      },
      "execution_count": null,
      "outputs": [
        {
          "output_type": "execute_result",
          "data": {
            "text/plain": [
              "5"
            ]
          },
          "metadata": {},
          "execution_count": 36
        }
      ]
    },
    {
      "cell_type": "markdown",
      "source": [
        "## Let's practice"
      ],
      "metadata": {
        "id": "ayG8wqk3j_Kk"
      }
    },
    {
      "cell_type": "markdown",
      "source": [
        "Create two different number generator functions:\n",
        "1.   Write a function get_numbers_list(n) that returns a list of numbers from 0 to n-1\n",
        "2.   Write another function get_numbers_gen(n) that yields numbers from 0 to n-1"
      ],
      "metadata": {
        "id": "00Jc2sZakC1k"
      }
    },
    {
      "cell_type": "code",
      "source": [
        "def get_numbers_list(n):\n",
        "    ## Your code here"
      ],
      "metadata": {
        "id": "aBar97eNkw3t"
      },
      "execution_count": null,
      "outputs": []
    },
    {
      "cell_type": "code",
      "source": [
        "def get_numbers_gen(n):\n",
        "    ## Your code here"
      ],
      "metadata": {
        "id": "hIfvPQguniXr"
      },
      "execution_count": null,
      "outputs": []
    },
    {
      "cell_type": "markdown",
      "source": [
        "To measure efficiency we can use the time library to measure how long does it take to sum the numbers."
      ],
      "metadata": {
        "id": "-Z8sNlxtk6Wi"
      }
    },
    {
      "cell_type": "code",
      "source": [
        "import time\n",
        "\n",
        "## Time to run list\n",
        "start = time.time() #gives the seconds when you started a process\n",
        "sum(get_numbers_list(10_000_000))\n",
        "end = time.time()\n",
        "print(\"List time:\", end - start)\n",
        "\n",
        "## Time to run generator\n",
        "start = time.time()\n",
        "sum(get_numbers_gen(10_000_000))\n",
        "end = time.time()\n",
        "print(\"Generator time:\", end - start)\n"
      ],
      "metadata": {
        "colab": {
          "base_uri": "https://localhost:8080/"
        },
        "id": "Bs_j8pvKlJo6",
        "outputId": "ab713ab4-78f9-48f8-c5fa-69f0aae2db05"
      },
      "execution_count": null,
      "outputs": [
        {
          "output_type": "stream",
          "name": "stdout",
          "text": [
            "List time: 3.4001386165618896\n",
            "Generator time: 1.1194005012512207\n"
          ]
        }
      ]
    },
    {
      "cell_type": "markdown",
      "source": [
        "## Reflect on the following:\n",
        "1. What is the difference between how `get_numbers_list(n)` and `get_numbers_gen(n)` behave?\n",
        "2. What happens to memory usage when `n` is very large (e.g. 1,000,000)?\n",
        "3. Can you print all elements of the generator using a for-loop?\n",
        "4. What happens if you try to use `next()` on a generator that has no values left?\n",
        "5. Which version would you use for a data stream with billions of records and why?"
      ],
      "metadata": {
        "id": "rxINVRwHprAA"
      }
    }
  ],
  "metadata": {
    "hide_input": false,
    "kernelspec": {
      "display_name": "Python 3",
      "language": "python",
      "name": "python3"
    },
    "language_info": {
      "codemirror_mode": {
        "name": "ipython",
        "version": 3
      },
      "file_extension": ".py",
      "mimetype": "text/x-python",
      "name": "python",
      "nbconvert_exporter": "python",
      "pygments_lexer": "ipython3",
      "version": "3.8.3"
    },
    "toc": {
      "base_numbering": 1,
      "nav_menu": {},
      "number_sections": true,
      "sideBar": true,
      "skip_h1_title": false,
      "title_cell": "Table of Contents",
      "title_sidebar": "Contents",
      "toc_cell": false,
      "toc_position": {},
      "toc_section_display": true,
      "toc_window_display": false
    },
    "colab": {
      "provenance": []
    }
  },
  "nbformat": 4,
  "nbformat_minor": 0
}