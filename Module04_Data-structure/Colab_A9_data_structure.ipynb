{
  "nbformat": 4,
  "nbformat_minor": 0,
  "metadata": {
    "colab": {
      "provenance": []
    },
    "kernelspec": {
      "name": "python3",
      "display_name": "Python 3"
    },
    "language_info": {
      "name": "python"
    }
  },
  "cells": [
    {
      "cell_type": "markdown",
      "source": [
        "## **List questions**\n",
        "\n",
        "#### Question 1:\n",
        "Part A: Find the Missing Number  \n",
        "You are given a list of n-1 integers, and these integers are in the range of 1 to n. There are no duplicates in the list. One of the integers is missing. Write a function to find the missing number.\n",
        "\n",
        "Part B: Merge Overlapping Intervals  \n",
        "Given a collection of intervals, merge any overlapping intervals."
      ],
      "metadata": {
        "id": "iEBZ5Ub3pfOi"
      }
    },
    {
      "cell_type": "code",
      "execution_count": null,
      "metadata": {
        "id": "kYQ76OVTnc8U"
      },
      "outputs": [],
      "source": [
        "def find_missing(lst):\n",
        "    # Your code here\n",
        "\n",
        "lst = [1, 2, 4, 6, 3, 7, 8]\n",
        "missing_number = find_missing(lst)\n",
        "print(missing_number)\n",
        "\n",
        "\n",
        "def merge_intervals(intervals):\n",
        "    # Your code here\n",
        "\n",
        "intervals = [[1, 3], [2, 6], [8, 10], [15, 18]]\n",
        "merged = merge_intervals(intervals)\n",
        "print(merged)"
      ]
    },
    {
      "cell_type": "markdown",
      "source": [
        "## **Tuple Questions**\n",
        "\n",
        "#### Question 2: Count Elements\n",
        "\n",
        "Write a function that counts the number of elements in a tuple that are greater than a specified value."
      ],
      "metadata": {
        "id": "GXis4SDAr5Oj"
      }
    },
    {
      "cell_type": "code",
      "source": [
        "def count_greater(tup, value):\n",
        "  # Your code here"
      ],
      "metadata": {
        "id": "22YInkd8sAYK"
      },
      "execution_count": null,
      "outputs": []
    },
    {
      "cell_type": "markdown",
      "source": [
        "## **Set Questions**\n",
        "\n",
        "#### Question 3: Maximal Set by Sum\n",
        "\n",
        "Write a function to find the set from a list of sets that has the maximum sum of its elements."
      ],
      "metadata": {
        "id": "5OvDTlSZpmcJ"
      }
    },
    {
      "cell_type": "code",
      "source": [
        "def max_set_by_sum(sets):\n",
        "  # Your code here"
      ],
      "metadata": {
        "id": "_kUoA-tEpoFL"
      },
      "execution_count": null,
      "outputs": []
    },
    {
      "cell_type": "markdown",
      "source": [
        "##**Stack Questions**\n",
        "\n",
        "#### Question 4: Write a function to sort a stack."
      ],
      "metadata": {
        "id": "pPxU7fx6qFxq"
      }
    },
    {
      "cell_type": "code",
      "source": [
        "def sort_stack(stack):\n",
        "  # Your code here\n",
        "\n",
        "stack = [34, 3, 31, 98, 92, 23]\n",
        "print(sort_stack(stack))"
      ],
      "metadata": {
        "id": "M28lHodsqH6A"
      },
      "execution_count": null,
      "outputs": []
    }
  ]
}